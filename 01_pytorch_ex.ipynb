{
  "nbformat": 4,
  "nbformat_minor": 0,
  "metadata": {
    "colab": {
      "provenance": [],
      "collapsed_sections": [],
      "include_colab_link": true
    },
    "kernelspec": {
      "name": "python3",
      "display_name": "Python 3"
    },
    "language_info": {
      "name": "python"
    },
    "accelerator": "GPU",
    "gpuClass": "standard"
  },
  "cells": [
    {
      "cell_type": "markdown",
      "metadata": {
        "id": "view-in-github",
        "colab_type": "text"
      },
      "source": [
        "<a href=\"https://colab.research.google.com/github/jeongeun/ML/blob/tutorial/01_pytorch_ex.ipynb\" target=\"_parent\"><img src=\"https://colab.research.google.com/assets/colab-badge.svg\" alt=\"Open In Colab\"/></a>"
      ]
    },
    {
      "cell_type": "code",
      "execution_count": 1,
      "metadata": {
        "colab": {
          "base_uri": "https://localhost:8080/"
        },
        "id": "3UFn7qZ8c9YV",
        "outputId": "5a8112bc-7da1-4b11-b360-7c0184ebcbfb"
      },
      "outputs": [
        {
          "output_type": "stream",
          "name": "stdout",
          "text": [
            "INFO: pytorch version: 1.12.1+cu113\n"
          ]
        }
      ],
      "source": [
        "import os\n",
        "import time\n",
        "\n",
        "import numpy as np\n",
        "\n",
        "import matplotlib \n",
        "from matplotlib import pyplot as plt\n",
        "\n",
        "import torch\n",
        "print(\"INFO: pytorch version:\", torch.__version__)"
      ]
    },
    {
      "cell_type": "markdown",
      "source": [
        "# Declaring data array in PyTorch"
      ],
      "metadata": {
        "id": "zlRzRhF-eR6g"
      }
    },
    {
      "cell_type": "markdown",
      "source": [
        "In ```pytorch```, Tensors are the objects saving data.\n",
        "\n",
        "pytorch: 모든 오브젝트를 tensor로 모두 저장.\n",
        "integer, float 타입으로 저장."
      ],
      "metadata": {
        "id": "KFum3W5Jea1f"
      }
    },
    {
      "cell_type": "code",
      "source": [
        "# declaring tensor of integers numbers\n",
        "tensor_int = torch.tensor([1,2,3])\n",
        "print(\"tensor_created\", tensor_int)\n",
        "print(\"type :\", type(tensor_int))\n",
        "print(\"shape:\", tensor_int.shape)\n",
        "print(\"dtype:\", tensor_int.dtype)\n",
        "print(\"device:\", tensor_int.device)\n",
        "print(\"---------------------------------------------\")\n",
        "# declaring tensor of floating numbers\n",
        "tensor_float = torch.tensor([1.,2.,3.])\n",
        "print(\"tensor_created\", tensor_float)\n",
        "print(\"type :\", type(tensor_float))\n",
        "print(\"shape:\", tensor_int.shape)\n",
        "print(\"dtype:\", tensor_float.dtype)\n",
        "print(\"device:\", tensor_int.device)\n",
        "print(\"---------------------------------------------\")"
      ],
      "metadata": {
        "colab": {
          "base_uri": "https://localhost:8080/"
        },
        "id": "f10CqHVeeQ3c",
        "outputId": "e0fca7d4-6791-4c58-d42f-2ea1f266ec07"
      },
      "execution_count": 2,
      "outputs": [
        {
          "output_type": "stream",
          "name": "stdout",
          "text": [
            "tensor_created tensor([1, 2, 3])\n",
            "type : <class 'torch.Tensor'>\n",
            "shape: torch.Size([3])\n",
            "dtype: torch.int64\n",
            "device: cpu\n",
            "---------------------------------------------\n",
            "tensor_created tensor([1., 2., 3.])\n",
            "type : <class 'torch.Tensor'>\n",
            "shape: torch.Size([3])\n",
            "dtype: torch.float32\n",
            "device: cpu\n",
            "---------------------------------------------\n"
          ]
        }
      ]
    },
    {
      "cell_type": "markdown",
      "source": [
        "You can also convert numpy arrays to tensors.\n",
        "\n",
        "**Be careful that the default type for floating numbers are different**\n",
        "* pytorch: float32\n",
        "* numpy  : float64"
      ],
      "metadata": {
        "id": "lyn1T0DIekEX"
      }
    },
    {
      "cell_type": "code",
      "source": [
        "arr_int = np.array([[1],[2],[3]])\n",
        "print(\"ndarray_created\", arr_int)\n",
        "print(\"type :\", type(arr_int))\n",
        "print(\"shape:\", arr_int.shape)\n",
        "print(\"dtype:\", arr_int.dtype)\n",
        "print(\"---------------------------------------------\")\n",
        "arr_float = np.array([[1.],[2.],[3.]])\n",
        "print(\"ndarray_created\", arr_float)\n",
        "print(\"type :\", type(arr_float))\n",
        "print(\"shape:\", arr_float.shape)\n",
        "print(\"dtype:\", arr_float.dtype)\n",
        "print(\"---------------------------------------------\")"
      ],
      "metadata": {
        "colab": {
          "base_uri": "https://localhost:8080/"
        },
        "id": "xEZUXJzbehfr",
        "outputId": "0eb2f432-8b17-434f-b4fc-d2d214aa8195"
      },
      "execution_count": 3,
      "outputs": [
        {
          "output_type": "stream",
          "name": "stdout",
          "text": [
            "ndarray_created [[1]\n",
            " [2]\n",
            " [3]]\n",
            "type : <class 'numpy.ndarray'>\n",
            "shape: (3, 1)\n",
            "dtype: int64\n",
            "---------------------------------------------\n",
            "ndarray_created [[1.]\n",
            " [2.]\n",
            " [3.]]\n",
            "type : <class 'numpy.ndarray'>\n",
            "shape: (3, 1)\n",
            "dtype: float64\n",
            "---------------------------------------------\n"
          ]
        }
      ]
    },
    {
      "cell_type": "markdown",
      "source": [
        "위의 arr_float 를 tensor로 converting한다. \n",
        "**type을 지정할 때 중요**하다. \n",
        "\n",
        "**!주의 : gpu에 float64아니고 float32로 설정되어있다.**"
      ],
      "metadata": {
        "id": "nA9ZuiRJVaXg"
      }
    },
    {
      "cell_type": "code",
      "source": [
        "tensor_float = torch.tensor(arr_float) # copy construct\n",
        "print(\"tensor_created\", tensor_float)\n",
        "print(\"type :\", type(tensor_float))\n",
        "print(\"shape:\", tensor_int.shape)\n",
        "print(\"dtype:\", tensor_float.dtype, \"<- torch inherits types of input data\")\n",
        "print(\"device:\", tensor_int.device)\n",
        "print(\"---------------------------------------------\")"
      ],
      "metadata": {
        "colab": {
          "base_uri": "https://localhost:8080/"
        },
        "id": "nJu6NCrieqE3",
        "outputId": "437d1a64-fbd4-4c6b-9b78-d5d7f5c83b49"
      },
      "execution_count": 4,
      "outputs": [
        {
          "output_type": "stream",
          "name": "stdout",
          "text": [
            "tensor_created tensor([[1.],\n",
            "        [2.],\n",
            "        [3.]], dtype=torch.float64)\n",
            "type : <class 'torch.Tensor'>\n",
            "shape: torch.Size([3])\n",
            "dtype: torch.float64 <- torch inherits types of input data\n",
            "device: cpu\n",
            "---------------------------------------------\n"
          ]
        }
      ]
    },
    {
      "cell_type": "markdown",
      "source": [
        "This default type difference sometimes cause type error when you evaulate a neural network.\n",
        "Let us consider a following **multilayer perceptron (MLP) with two hidden layers and ReLU activations.**\n",
        "\n",
        "##\n",
        "Sequential모델을 이용. \n",
        "\n",
        "4개의 linear layer, activate function ReLu \\\\\n",
        "Linear 숫자 (n, m) : \\\\\n",
        "n = dimesion of input, 한개의 input 넣고 \\\\\n",
        "m = converted to dimension of output, 16개의 output 생성 \n",
        "2 hidden layer 넣기.\n",
        "\\\\\n",
        "\n",
        "numpy 는 cpu only (gpu off). \n",
        "\n",
        "다른 모델 import할때 gpu on 해야 함.\n"
      ],
      "metadata": {
        "id": "vjUoHJimfh2S"
      }
    },
    {
      "cell_type": "code",
      "source": [
        "model_mlp = torch.nn.Sequential(\n",
        "    torch.nn.Linear(1, 16),\n",
        "    torch.nn.ReLU(),\n",
        "    torch.nn.Linear(16, 16),\n",
        "    torch.nn.ReLU(),\n",
        "    torch.nn.Linear(16, 16),\n",
        "    torch.nn.ReLU(),\n",
        "    torch.nn.Linear(16, 1),\n",
        ")"
      ],
      "metadata": {
        "id": "dhwKQ2bdfxYn"
      },
      "execution_count": 5,
      "outputs": []
    },
    {
      "cell_type": "code",
      "source": [
        "# this code will throw RuntimeError\n",
        "# please check your input types if this error pops up.\n",
        "model_mlp(tensor_float)"
      ],
      "metadata": {
        "colab": {
          "base_uri": "https://localhost:8080/",
          "height": 368
        },
        "id": "hWdbtcd3fUvy",
        "outputId": "5695e52c-9908-404c-aa45-e40a56be83e0"
      },
      "execution_count": 6,
      "outputs": [
        {
          "output_type": "error",
          "ename": "RuntimeError",
          "evalue": "ignored",
          "traceback": [
            "\u001b[0;31m---------------------------------------------------------------------------\u001b[0m",
            "\u001b[0;31mRuntimeError\u001b[0m                              Traceback (most recent call last)",
            "\u001b[0;32m<ipython-input-6-7e67c1a91fe3>\u001b[0m in \u001b[0;36m<module>\u001b[0;34m\u001b[0m\n\u001b[1;32m      1\u001b[0m \u001b[0;31m# this code will throw RuntimeError\u001b[0m\u001b[0;34m\u001b[0m\u001b[0;34m\u001b[0m\u001b[0;34m\u001b[0m\u001b[0m\n\u001b[1;32m      2\u001b[0m \u001b[0;31m# please check your input types if this error pops up.\u001b[0m\u001b[0;34m\u001b[0m\u001b[0;34m\u001b[0m\u001b[0;34m\u001b[0m\u001b[0m\n\u001b[0;32m----> 3\u001b[0;31m \u001b[0mmodel_mlp\u001b[0m\u001b[0;34m(\u001b[0m\u001b[0mtensor_float\u001b[0m\u001b[0;34m)\u001b[0m\u001b[0;34m\u001b[0m\u001b[0;34m\u001b[0m\u001b[0m\n\u001b[0m",
            "\u001b[0;32m/usr/local/lib/python3.7/dist-packages/torch/nn/modules/module.py\u001b[0m in \u001b[0;36m_call_impl\u001b[0;34m(self, *input, **kwargs)\u001b[0m\n\u001b[1;32m   1128\u001b[0m         if not (self._backward_hooks or self._forward_hooks or self._forward_pre_hooks or _global_backward_hooks\n\u001b[1;32m   1129\u001b[0m                 or _global_forward_hooks or _global_forward_pre_hooks):\n\u001b[0;32m-> 1130\u001b[0;31m             \u001b[0;32mreturn\u001b[0m \u001b[0mforward_call\u001b[0m\u001b[0;34m(\u001b[0m\u001b[0;34m*\u001b[0m\u001b[0minput\u001b[0m\u001b[0;34m,\u001b[0m \u001b[0;34m**\u001b[0m\u001b[0mkwargs\u001b[0m\u001b[0;34m)\u001b[0m\u001b[0;34m\u001b[0m\u001b[0;34m\u001b[0m\u001b[0m\n\u001b[0m\u001b[1;32m   1131\u001b[0m         \u001b[0;31m# Do not call functions when jit is used\u001b[0m\u001b[0;34m\u001b[0m\u001b[0;34m\u001b[0m\u001b[0;34m\u001b[0m\u001b[0m\n\u001b[1;32m   1132\u001b[0m         \u001b[0mfull_backward_hooks\u001b[0m\u001b[0;34m,\u001b[0m \u001b[0mnon_full_backward_hooks\u001b[0m \u001b[0;34m=\u001b[0m \u001b[0;34m[\u001b[0m\u001b[0;34m]\u001b[0m\u001b[0;34m,\u001b[0m \u001b[0;34m[\u001b[0m\u001b[0;34m]\u001b[0m\u001b[0;34m\u001b[0m\u001b[0;34m\u001b[0m\u001b[0m\n",
            "\u001b[0;32m/usr/local/lib/python3.7/dist-packages/torch/nn/modules/container.py\u001b[0m in \u001b[0;36mforward\u001b[0;34m(self, input)\u001b[0m\n\u001b[1;32m    137\u001b[0m     \u001b[0;32mdef\u001b[0m \u001b[0mforward\u001b[0m\u001b[0;34m(\u001b[0m\u001b[0mself\u001b[0m\u001b[0;34m,\u001b[0m \u001b[0minput\u001b[0m\u001b[0;34m)\u001b[0m\u001b[0;34m:\u001b[0m\u001b[0;34m\u001b[0m\u001b[0;34m\u001b[0m\u001b[0m\n\u001b[1;32m    138\u001b[0m         \u001b[0;32mfor\u001b[0m \u001b[0mmodule\u001b[0m \u001b[0;32min\u001b[0m \u001b[0mself\u001b[0m\u001b[0;34m:\u001b[0m\u001b[0;34m\u001b[0m\u001b[0;34m\u001b[0m\u001b[0m\n\u001b[0;32m--> 139\u001b[0;31m             \u001b[0minput\u001b[0m \u001b[0;34m=\u001b[0m \u001b[0mmodule\u001b[0m\u001b[0;34m(\u001b[0m\u001b[0minput\u001b[0m\u001b[0;34m)\u001b[0m\u001b[0;34m\u001b[0m\u001b[0;34m\u001b[0m\u001b[0m\n\u001b[0m\u001b[1;32m    140\u001b[0m         \u001b[0;32mreturn\u001b[0m \u001b[0minput\u001b[0m\u001b[0;34m\u001b[0m\u001b[0;34m\u001b[0m\u001b[0m\n\u001b[1;32m    141\u001b[0m \u001b[0;34m\u001b[0m\u001b[0m\n",
            "\u001b[0;32m/usr/local/lib/python3.7/dist-packages/torch/nn/modules/module.py\u001b[0m in \u001b[0;36m_call_impl\u001b[0;34m(self, *input, **kwargs)\u001b[0m\n\u001b[1;32m   1128\u001b[0m         if not (self._backward_hooks or self._forward_hooks or self._forward_pre_hooks or _global_backward_hooks\n\u001b[1;32m   1129\u001b[0m                 or _global_forward_hooks or _global_forward_pre_hooks):\n\u001b[0;32m-> 1130\u001b[0;31m             \u001b[0;32mreturn\u001b[0m \u001b[0mforward_call\u001b[0m\u001b[0;34m(\u001b[0m\u001b[0;34m*\u001b[0m\u001b[0minput\u001b[0m\u001b[0;34m,\u001b[0m \u001b[0;34m**\u001b[0m\u001b[0mkwargs\u001b[0m\u001b[0;34m)\u001b[0m\u001b[0;34m\u001b[0m\u001b[0;34m\u001b[0m\u001b[0m\n\u001b[0m\u001b[1;32m   1131\u001b[0m         \u001b[0;31m# Do not call functions when jit is used\u001b[0m\u001b[0;34m\u001b[0m\u001b[0;34m\u001b[0m\u001b[0;34m\u001b[0m\u001b[0m\n\u001b[1;32m   1132\u001b[0m         \u001b[0mfull_backward_hooks\u001b[0m\u001b[0;34m,\u001b[0m \u001b[0mnon_full_backward_hooks\u001b[0m \u001b[0;34m=\u001b[0m \u001b[0;34m[\u001b[0m\u001b[0;34m]\u001b[0m\u001b[0;34m,\u001b[0m \u001b[0;34m[\u001b[0m\u001b[0;34m]\u001b[0m\u001b[0;34m\u001b[0m\u001b[0;34m\u001b[0m\u001b[0m\n",
            "\u001b[0;32m/usr/local/lib/python3.7/dist-packages/torch/nn/modules/linear.py\u001b[0m in \u001b[0;36mforward\u001b[0;34m(self, input)\u001b[0m\n\u001b[1;32m    112\u001b[0m \u001b[0;34m\u001b[0m\u001b[0m\n\u001b[1;32m    113\u001b[0m     \u001b[0;32mdef\u001b[0m \u001b[0mforward\u001b[0m\u001b[0;34m(\u001b[0m\u001b[0mself\u001b[0m\u001b[0;34m,\u001b[0m \u001b[0minput\u001b[0m\u001b[0;34m:\u001b[0m \u001b[0mTensor\u001b[0m\u001b[0;34m)\u001b[0m \u001b[0;34m->\u001b[0m \u001b[0mTensor\u001b[0m\u001b[0;34m:\u001b[0m\u001b[0;34m\u001b[0m\u001b[0;34m\u001b[0m\u001b[0m\n\u001b[0;32m--> 114\u001b[0;31m         \u001b[0;32mreturn\u001b[0m \u001b[0mF\u001b[0m\u001b[0;34m.\u001b[0m\u001b[0mlinear\u001b[0m\u001b[0;34m(\u001b[0m\u001b[0minput\u001b[0m\u001b[0;34m,\u001b[0m \u001b[0mself\u001b[0m\u001b[0;34m.\u001b[0m\u001b[0mweight\u001b[0m\u001b[0;34m,\u001b[0m \u001b[0mself\u001b[0m\u001b[0;34m.\u001b[0m\u001b[0mbias\u001b[0m\u001b[0;34m)\u001b[0m\u001b[0;34m\u001b[0m\u001b[0;34m\u001b[0m\u001b[0m\n\u001b[0m\u001b[1;32m    115\u001b[0m \u001b[0;34m\u001b[0m\u001b[0m\n\u001b[1;32m    116\u001b[0m     \u001b[0;32mdef\u001b[0m \u001b[0mextra_repr\u001b[0m\u001b[0;34m(\u001b[0m\u001b[0mself\u001b[0m\u001b[0;34m)\u001b[0m \u001b[0;34m->\u001b[0m \u001b[0mstr\u001b[0m\u001b[0;34m:\u001b[0m\u001b[0;34m\u001b[0m\u001b[0;34m\u001b[0m\u001b[0m\n",
            "\u001b[0;31mRuntimeError\u001b[0m: expected scalar type Float but found Double"
          ]
        }
      ]
    },
    {
      "cell_type": "code",
      "source": [
        "# this code will run without any problem.\n",
        "model_mlp(tensor_float.type(torch.float32))"
      ],
      "metadata": {
        "colab": {
          "base_uri": "https://localhost:8080/"
        },
        "id": "4PEddt4-fYhL",
        "outputId": "d8eaeae1-ffc7-44fb-86fb-cc58ad2ad9b5"
      },
      "execution_count": 7,
      "outputs": [
        {
          "output_type": "execute_result",
          "data": {
            "text/plain": [
              "tensor([[-0.0544],\n",
              "        [-0.0542],\n",
              "        [-0.0683]], grad_fn=<AddmmBackward0>)"
            ]
          },
          "metadata": {},
          "execution_count": 7
        }
      ]
    },
    {
      "cell_type": "markdown",
      "source": [
        "You can also \"Load external DATA\" and convert it to pytorch tensors for the data analysis.\n",
        "\n",
        "The following file contains **10000 random samples of the standard 2D gaussian.**"
      ],
      "metadata": {
        "id": "_CLKTQJbme6p"
      }
    },
    {
      "cell_type": "code",
      "source": [
        "# download file...\n",
        "if not os.path.exists('data.std_normal_2d.npy'):\n",
        "    !wget --no-check-certificate 'https://docs.google.com/uc?export=download&id=19R7xHGTbWv9RoMW9dUtVDGVuzmTgF-Lt' -O data.std_normal_2d.npy"
      ],
      "metadata": {
        "colab": {
          "base_uri": "https://localhost:8080/"
        },
        "id": "bpvcJVG8mLn3",
        "outputId": "1be0f703-1c82-43e7-aa01-a1b0d284dbfc"
      },
      "execution_count": 8,
      "outputs": [
        {
          "output_type": "stream",
          "name": "stdout",
          "text": [
            "--2022-10-06 13:36:51--  https://docs.google.com/uc?export=download&id=19R7xHGTbWv9RoMW9dUtVDGVuzmTgF-Lt\n",
            "Resolving docs.google.com (docs.google.com)... 142.251.161.102, 142.251.161.100, 142.251.161.139, ...\n",
            "Connecting to docs.google.com (docs.google.com)|142.251.161.102|:443... connected.\n",
            "HTTP request sent, awaiting response... 303 See Other\n",
            "Location: https://doc-00-bs-docs.googleusercontent.com/docs/securesc/ha0ro937gcuc7l7deffksulhg5h7mbp1/d009q0kg08d74m0fkqic43ajvis48d3q/1665063375000/10702479488373320068/*/19R7xHGTbWv9RoMW9dUtVDGVuzmTgF-Lt?e=download&uuid=7db2d4b4-28ae-4fca-8871-ce48bfa1cad0 [following]\n",
            "Warning: wildcards not supported in HTTP.\n",
            "--2022-10-06 13:36:51--  https://doc-00-bs-docs.googleusercontent.com/docs/securesc/ha0ro937gcuc7l7deffksulhg5h7mbp1/d009q0kg08d74m0fkqic43ajvis48d3q/1665063375000/10702479488373320068/*/19R7xHGTbWv9RoMW9dUtVDGVuzmTgF-Lt?e=download&uuid=7db2d4b4-28ae-4fca-8871-ce48bfa1cad0\n",
            "Resolving doc-00-bs-docs.googleusercontent.com (doc-00-bs-docs.googleusercontent.com)... 74.125.129.132, 2607:f8b0:4001:c15::84\n",
            "Connecting to doc-00-bs-docs.googleusercontent.com (doc-00-bs-docs.googleusercontent.com)|74.125.129.132|:443... connected.\n",
            "HTTP request sent, awaiting response... 200 OK\n",
            "Length: 160128 (156K) [application/octet-stream]\n",
            "Saving to: ‘data.std_normal_2d.npy’\n",
            "\n",
            "data.std_normal_2d. 100%[===================>] 156.38K  --.-KB/s    in 0.001s  \n",
            "\n",
            "2022-10-06 13:36:52 (158 MB/s) - ‘data.std_normal_2d.npy’ saved [160128/160128]\n",
            "\n"
          ]
        }
      ]
    },
    {
      "cell_type": "code",
      "source": [
        "# load external dataset\n",
        "arr_loaded    = np.load(\"data.std_normal_2d.npy\").astype(np.float32)\n",
        "tensor_loaded = torch.tensor(arr_loaded.astype(np.float32))\n",
        "print(\"tensor_created\", tensor_loaded)\n",
        "print(\"type :\", type(tensor_loaded))\n",
        "print(\"shape:\", tensor_loaded.shape)\n",
        "print(\"dtype:\", tensor_loaded.dtype)\n",
        "print(\"device:\", tensor_loaded.device)\n",
        "print(\"---------------------------------------------\")\n",
        "\n",
        "# visualize the dataset\n",
        "arr_buffer = tensor_loaded.numpy()\n",
        "plt.hist2d(\n",
        "    arr_buffer[:,0],\n",
        "    arr_buffer[:,1],\n",
        "    bins=[20,20],\n",
        "    range=[[-2,2],[-2,2]],\n",
        "    #cmap=\"Greys\"\n",
        "    cmap=\"Reds\"\n",
        ")\n",
        "plt.colorbar()\n",
        "plt.gca().set_aspect(1)\n",
        "plt.gca().set_xlabel(\"x\")\n",
        "plt.gca().set_ylabel(\"y\");"
      ],
      "metadata": {
        "id": "-x9YwWMtghFn",
        "colab": {
          "base_uri": "https://localhost:8080/",
          "height": 507
        },
        "outputId": "98005282-cf0b-44ba-c440-f9066dd905dc"
      },
      "execution_count": 13,
      "outputs": [
        {
          "output_type": "stream",
          "name": "stdout",
          "text": [
            "tensor_created tensor([[ 0.0410, -0.5499],\n",
            "        [ 0.0914,  0.3845],\n",
            "        [-1.4588,  0.7957],\n",
            "        ...,\n",
            "        [ 0.1726,  1.0739],\n",
            "        [ 0.2596,  2.1876],\n",
            "        [-0.0886,  0.2547]])\n",
            "type : <class 'torch.Tensor'>\n",
            "shape: torch.Size([10000, 2])\n",
            "dtype: torch.float32\n",
            "device: cpu\n",
            "---------------------------------------------\n"
          ]
        },
        {
          "output_type": "display_data",
          "data": {
            "text/plain": [
              "<Figure size 432x288 with 2 Axes>"
            ],
            "image/png": "[encoded data removed]"
          },
          "metadata": {
            "needs_background": "light"
          }
        }
      ]
    },
    {
      "cell_type": "markdown",
      "source": [
        "# Basic algebras in PyTorch"
      ],
      "metadata": {
        "id": "k0RmyQTHm1ac"
      }
    },
    {
      "cell_type": "markdown",
      "source": [
        "(1) pytorch supports the same algebraic operations available in NumPy."
      ],
      "metadata": {
        "id": "Lg0foQ8HnOK_"
      }
    },
    {
      "cell_type": "code",
      "source": [
        "# tensor with zeros\n",
        "x = torch.zeros(size=(3,),dtype=torch.float32)\n",
        "print(x)\n",
        "print(\"---------------------------------\")\n",
        "\n",
        "# tensor with ones\n",
        "y = torch.ones(size=(3,),dtype=torch.float32)\n",
        "print(y)\n",
        "print(\"---------------------------------\")\n",
        "\n",
        "# elementary operations\n",
        "# 2*x + 3*y\n",
        "print(2*x + 3*y)\n",
        "print(\"---------------------------------\")\n",
        "# (2*y)^3\n",
        "print((2*y)**3)\n",
        "print(\"---------------------------------\")"
      ],
      "metadata": {
        "colab": {
          "base_uri": "https://localhost:8080/"
        },
        "id": "d02Bt_-BjzoL",
        "outputId": "f56a0a4f-551c-475d-a483-29af41b5b308"
      },
      "execution_count": 14,
      "outputs": [
        {
          "output_type": "stream",
          "name": "stdout",
          "text": [
            "tensor([0., 0., 0.])\n",
            "---------------------------------\n",
            "tensor([1., 1., 1.])\n",
            "---------------------------------\n",
            "tensor([3., 3., 3.])\n",
            "---------------------------------\n",
            "tensor([8., 8., 8.])\n",
            "---------------------------------\n"
          ]
        }
      ]
    },
    {
      "cell_type": "markdown",
      "source": [
        "(2) pytorch also has many built-in math functions."
      ],
      "metadata": {
        "id": "UgVpIMwInPfR"
      }
    },
    {
      "cell_type": "code",
      "source": [
        "x = torch.ones(size=(3,),dtype=torch.float32)\n",
        "print(\"x      =\", x)\n",
        "print(\"log(x) =\", torch.log(x))\n",
        "print(\"exp(x) =\", torch.exp(x))\n",
        "print(\"sin(x) =\", torch.sin(x))"
      ],
      "metadata": {
        "colab": {
          "base_uri": "https://localhost:8080/"
        },
        "id": "Rvtlg1Cdm238",
        "outputId": "9bfa2f60-503b-4edb-df03-a6b9ea677bac"
      },
      "execution_count": 17,
      "outputs": [
        {
          "output_type": "stream",
          "name": "stdout",
          "text": [
            "x      = tensor([1., 1., 1.])\n",
            "log(x) = tensor([0., 0., 0.])\n",
            "exp(x) = tensor([2.7183, 2.7183, 2.7183])\n",
            "sin(x) = tensor([0.8415, 0.8415, 0.8415])\n"
          ]
        }
      ]
    },
    {
      "cell_type": "markdown",
      "source": [
        "(3) pytorch tensors also follows the broadcasting rules for numpy arrays:"
      ],
      "metadata": {
        "id": "lt8mFRgunsjt"
      }
    },
    {
      "cell_type": "code",
      "source": [
        "# broadcastings....\n",
        "y = torch.ones(size=(4,3),dtype=torch.float32)\n",
        "print(y)\n",
        "print(\"---------------------------------\")\n",
        "\n",
        "# 1 + y\n",
        "#   broadcasting (,) + (4,3) -> (4,3)\n",
        "print(1. + y)\n",
        "print(\"---------------------------------\")\n",
        "\n",
        "# [1,2,3] + y\n",
        "#   broadcasting (3,) + (4,3) -> (4,3)\n",
        "print(torch.linspace(1.,3.,3) + y)\n",
        "print(\"---------------------------------\")\n",
        "\n",
        "# [[1],[2],[3],[4]] + y\n",
        "#   broadcasting (4,1) + (4,3) -> (4,3)\n",
        "print(torch.linspace(1.,4.,4)[:,None] + y)\n",
        "print(\"---------------------------------\")"
      ],
      "metadata": {
        "colab": {
          "base_uri": "https://localhost:8080/"
        },
        "id": "Ty0I2My4nHKD",
        "outputId": "688ba06c-6953-445b-e1f4-b48515f9ca7a"
      },
      "execution_count": 18,
      "outputs": [
        {
          "output_type": "stream",
          "name": "stdout",
          "text": [
            "tensor([[1., 1., 1.],\n",
            "        [1., 1., 1.],\n",
            "        [1., 1., 1.],\n",
            "        [1., 1., 1.]])\n",
            "---------------------------------\n",
            "tensor([[2., 2., 2.],\n",
            "        [2., 2., 2.],\n",
            "        [2., 2., 2.],\n",
            "        [2., 2., 2.]])\n",
            "---------------------------------\n",
            "tensor([[2., 3., 4.],\n",
            "        [2., 3., 4.],\n",
            "        [2., 3., 4.],\n",
            "        [2., 3., 4.]])\n",
            "---------------------------------\n",
            "tensor([[2., 2., 2.],\n",
            "        [3., 3., 3.],\n",
            "        [4., 4., 4.],\n",
            "        [5., 5., 5.]])\n",
            "---------------------------------\n"
          ]
        }
      ]
    },
    {
      "cell_type": "markdown",
      "source": [
        "# Calculating Derivatives"
      ],
      "metadata": {
        "id": "q0T8Cp5poJ9g"
      }
    },
    {
      "cell_type": "markdown",
      "source": [
        "There are two ways of calculating derivatives:\n",
        "- call backward function of given tensor : https://pytorch.org/docs/stable/generated/torch.autograd.backward.html#torch.autograd.backward\n",
        "- torch.autograd.grad() : https://pytorch.org/docs/stable/generated/torch.autograd.grad.html\n",
        "\n",
        "A quick summary of difference between those two can be found in: \n",
        "- https://pytorch.org/docs/stable/autograd.html\n",
        "- https://stackoverflow.com/questions/69148622/difference-between-autograd-grad-and-autograd-backward"
      ],
      "metadata": {
        "id": "8KEOmoZa4vvr"
      }
    },
    {
      "cell_type": "markdown",
      "source": [
        "## Tensor.backward():\n",
        "This method calculates gradients of given tensor with respect to all the graph leafs (the input tensors with requires_grad=True) and **accumulate** the gradient at tensor.grad field. \n",
        "\n",
        "This function is convenient for calculating derivatives during the network training."
      ],
      "metadata": {
        "id": "ezf2FnWB6Ka1"
      }
    },
    {
      "cell_type": "code",
      "source": [
        "# calculating derivative of x^2\n",
        "x = torch.tensor(-1., requires_grad=True)\n",
        "print(\"x     =\", x)\n",
        "y=x**2\n",
        "print(\"y     =\", y)\n",
        "y.backward()\n",
        "print(\"dy/dx =\", x.grad)"
      ],
      "metadata": {
        "colab": {
          "base_uri": "https://localhost:8080/"
        },
        "id": "zG_sHlHaoYaT",
        "outputId": "ddfd8ca1-7de7-4697-a549-d6f550bef17d"
      },
      "execution_count": 29,
      "outputs": [
        {
          "output_type": "stream",
          "name": "stdout",
          "text": [
            "x     = tensor(-1., requires_grad=True)\n",
            "y     = tensor(1., grad_fn=<PowBackward0>)\n",
            "dy/dx = tensor(-2.)\n"
          ]
        }
      ]
    },
    {
      "cell_type": "markdown",
      "source": [
        "! Be careful that backward() function is **accumulating** the gradients to the ```tensor.grad```, not saving the gradients.\n",
        "\n",
        "cf) I used ```retain_graph=True``` to keep the graph for backpropagation. Without this flag, the graph will be immediate released after computing gradinet, and you cannot backpropagate through the graph again. "
      ],
      "metadata": {
        "id": "6G_BY9Ki7zN1"
      }
    },
    {
      "cell_type": "code",
      "source": [
        "# calculating derivative of x^2\n",
        "x = torch.tensor(-1., requires_grad=True)\n",
        "print(\"x     =\", x)\n",
        "y=x**2\n",
        "print(\"y     =\", y)\n",
        "y.backward(retain_graph=True)   # used retain_graph=True to keep the graph for backpropagation. Without this flag, the graph will be immediate released after computing gradinetand you cannot backpropagate   \n",
        "print(\"dy/dx =\", x.grad)\n",
        "# calculating derivative of x^2?\n",
        "y.backward(retain_graph=True)\n",
        "print(\"dy/dx?=\", x.grad, \"<- this will not be -2, but (-2)+(-2)=-4\")\n",
        "# calculating derivative of x^2 after resetting the gradient\n",
        "x.grad = None\n",
        "y.backward()\n",
        "print(\"dy/dx =\", x.grad)"
      ],
      "metadata": {
        "colab": {
          "base_uri": "https://localhost:8080/"
        },
        "id": "EY7BxjOp75OI",
        "outputId": "47f7a4c8-0e9f-4e20-97a9-9390c480defd"
      },
      "execution_count": 20,
      "outputs": [
        {
          "output_type": "stream",
          "name": "stdout",
          "text": [
            "x     = tensor(-1., requires_grad=True)\n",
            "y     = tensor(1., grad_fn=<PowBackward0>)\n",
            "dy/dx = tensor(-2.)\n",
            "dy/dx?= tensor(-4.) <- this will not be -2, but (-2)+(-2)=-4\n",
            "dy/dx = tensor(-2.)\n"
          ]
        }
      ]
    },
    {
      "cell_type": "markdown",
      "source": [
        "## torch.autograd.grad():"
      ],
      "metadata": {
        "id": "U0j6PpFy9_n6"
      }
    },
    {
      "cell_type": "markdown",
      "source": [
        "This function calculates gradient of given tensor with respect to the provided leaf tensor, i.e., ```torch.autograd.grad(y,x)``` will calculates dy/dx.\n",
        "This function is useful when you need to explicitly compute some derivatives and higher order derivatives."
      ],
      "metadata": {
        "id": "iKqY_8pQ-DlD"
      }
    },
    {
      "cell_type": "code",
      "source": [
        "# calculating derivative of x^2\n",
        "x = torch.tensor(-1., requires_grad=True)\n",
        "print(\"x      =\", x)\n",
        "y=x**2\n",
        "print(\"y      =\", y)\n",
        "dydx = torch.autograd.grad(y,x)[0] # this returns a tuple whose first componenet is the gradient.\n",
        "print(\"dy/dx  =\", dydx)\n",
        "print(\"x.grad =\", x.grad)\n"
      ],
      "metadata": {
        "colab": {
          "base_uri": "https://localhost:8080/"
        },
        "id": "MaxXiye1o2Nx",
        "outputId": "ae3eb3de-2b7e-4937-8c49-2e35a8be2d89"
      },
      "execution_count": 28,
      "outputs": [
        {
          "output_type": "stream",
          "name": "stdout",
          "text": [
            "x      = tensor(-1., requires_grad=True)\n",
            "y      = tensor(1., grad_fn=<PowBackward0>)\n",
            "dy/dx  = tensor(-2.)\n",
            "x.grad = None\n"
          ]
        }
      ]
    },
    {
      "cell_type": "markdown",
      "source": [
        "Calculating higher order derivatives are also straightforward with ```torch.autograd.grad()```, but you have to set flag ```create_graph=True``` to make the grad function create graphs for backpropagation."
      ],
      "metadata": {
        "id": "MfiFLYZj-pBx"
      }
    },
    {
      "cell_type": "code",
      "source": [
        "# calculating 2nd order derivative of x^4\n",
        "x = torch.tensor(-1., requires_grad=True)\n",
        "print(\"x      =\", x)\n",
        "y=x**4\n",
        "print(\"y      =\", y)\n",
        "dy_dx = torch.autograd.grad(y, x, create_graph=True)[0] \n",
        "print(\"dy/dx  =\", dy_dx, \"<- you can see that grad_fn is also created\")\n",
        "ddy_dxdx = torch.autograd.grad(dy_dx, x)[0]\n",
        "print(\"d^2y/dx^2  =\", ddy_dxdx)\n"
      ],
      "metadata": {
        "colab": {
          "base_uri": "https://localhost:8080/"
        },
        "id": "_6tn5Qvb--M-",
        "outputId": "b20c4a93-302e-487b-da51-19ca7d734521"
      },
      "execution_count": 25,
      "outputs": [
        {
          "output_type": "stream",
          "name": "stdout",
          "text": [
            "x      = tensor(-1., requires_grad=True)\n",
            "y      = tensor(1., grad_fn=<PowBackward0>)\n",
            "dy/dx  = tensor(-4., grad_fn=<MulBackward0>) <- you can see that grad_fn is also created\n",
            "d^2y/dx^2  = tensor(12.)\n"
          ]
        }
      ]
    },
    {
      "cell_type": "markdown",
      "source": [
        "# Gradient of non-scalar tensors"
      ],
      "metadata": {
        "id": "rpmXM0JC_p3a"
      }
    },
    {
      "cell_type": "markdown",
      "source": [
        "For calculating **gradients of non-scalar tensors**, we need **additional vector input** since the backpropagation algorithm or backward automatic differentition calculates the following vector-Jacobian product,\n",
        "\\begin{equation}\n",
        "(x_i)\\mathrm{.grad} =  v_i \\frac{dy_i}{d x_j}\n",
        "\\end{equation}"
      ],
      "metadata": {
        "id": "yVEUZaiIAJG0"
      }
    },
    {
      "cell_type": "code",
      "source": [
        "# calculating derivative of x^2\n",
        "x = torch.tensor([-1.,-2.], requires_grad=True)\n",
        "print(\"x     =\", x)\n",
        "y=x**2\n",
        "print(\"y     =\", y)\n",
        "y.backward()\n",
        "print(\"dy/dx =\", x.grad)"
      ],
      "metadata": {
        "colab": {
          "base_uri": "https://localhost:8080/",
          "height": 424
        },
        "id": "Jx-y11_9_8RW",
        "outputId": "f2eb29b7-f24e-4941-98e0-7b368b8ab027"
      },
      "execution_count": 27,
      "outputs": [
        {
          "output_type": "stream",
          "name": "stdout",
          "text": [
            "x     = tensor([-1., -2.], requires_grad=True)\n",
            "y     = tensor([1., 4.], grad_fn=<PowBackward0>)\n"
          ]
        },
        {
          "output_type": "error",
          "ename": "RuntimeError",
          "evalue": "ignored",
          "traceback": [
            "\u001b[0;31m---------------------------------------------------------------------------\u001b[0m",
            "\u001b[0;31mRuntimeError\u001b[0m                              Traceback (most recent call last)",
            "\u001b[0;32m<ipython-input-27-37ffe10fab23>\u001b[0m in \u001b[0;36m<module>\u001b[0;34m\u001b[0m\n\u001b[1;32m      4\u001b[0m \u001b[0my\u001b[0m\u001b[0;34m=\u001b[0m\u001b[0mx\u001b[0m\u001b[0;34m**\u001b[0m\u001b[0;36m2\u001b[0m\u001b[0;34m\u001b[0m\u001b[0;34m\u001b[0m\u001b[0m\n\u001b[1;32m      5\u001b[0m \u001b[0mprint\u001b[0m\u001b[0;34m(\u001b[0m\u001b[0;34m\"y     =\"\u001b[0m\u001b[0;34m,\u001b[0m \u001b[0my\u001b[0m\u001b[0;34m)\u001b[0m\u001b[0;34m\u001b[0m\u001b[0;34m\u001b[0m\u001b[0m\n\u001b[0;32m----> 6\u001b[0;31m \u001b[0my\u001b[0m\u001b[0;34m.\u001b[0m\u001b[0mbackward\u001b[0m\u001b[0;34m(\u001b[0m\u001b[0;34m)\u001b[0m\u001b[0;34m\u001b[0m\u001b[0;34m\u001b[0m\u001b[0m\n\u001b[0m\u001b[1;32m      7\u001b[0m \u001b[0mprint\u001b[0m\u001b[0;34m(\u001b[0m\u001b[0;34m\"dy/dx =\"\u001b[0m\u001b[0;34m,\u001b[0m \u001b[0mx\u001b[0m\u001b[0;34m.\u001b[0m\u001b[0mgrad\u001b[0m\u001b[0;34m)\u001b[0m\u001b[0;34m\u001b[0m\u001b[0;34m\u001b[0m\u001b[0m\n",
            "\u001b[0;32m/usr/local/lib/python3.7/dist-packages/torch/_tensor.py\u001b[0m in \u001b[0;36mbackward\u001b[0;34m(self, gradient, retain_graph, create_graph, inputs)\u001b[0m\n\u001b[1;32m    394\u001b[0m                 \u001b[0mcreate_graph\u001b[0m\u001b[0;34m=\u001b[0m\u001b[0mcreate_graph\u001b[0m\u001b[0;34m,\u001b[0m\u001b[0;34m\u001b[0m\u001b[0;34m\u001b[0m\u001b[0m\n\u001b[1;32m    395\u001b[0m                 inputs=inputs)\n\u001b[0;32m--> 396\u001b[0;31m         \u001b[0mtorch\u001b[0m\u001b[0;34m.\u001b[0m\u001b[0mautograd\u001b[0m\u001b[0;34m.\u001b[0m\u001b[0mbackward\u001b[0m\u001b[0;34m(\u001b[0m\u001b[0mself\u001b[0m\u001b[0;34m,\u001b[0m \u001b[0mgradient\u001b[0m\u001b[0;34m,\u001b[0m \u001b[0mretain_graph\u001b[0m\u001b[0;34m,\u001b[0m \u001b[0mcreate_graph\u001b[0m\u001b[0;34m,\u001b[0m \u001b[0minputs\u001b[0m\u001b[0;34m=\u001b[0m\u001b[0minputs\u001b[0m\u001b[0;34m)\u001b[0m\u001b[0;34m\u001b[0m\u001b[0;34m\u001b[0m\u001b[0m\n\u001b[0m\u001b[1;32m    397\u001b[0m \u001b[0;34m\u001b[0m\u001b[0m\n\u001b[1;32m    398\u001b[0m     \u001b[0;32mdef\u001b[0m \u001b[0mregister_hook\u001b[0m\u001b[0;34m(\u001b[0m\u001b[0mself\u001b[0m\u001b[0;34m,\u001b[0m \u001b[0mhook\u001b[0m\u001b[0;34m)\u001b[0m\u001b[0;34m:\u001b[0m\u001b[0;34m\u001b[0m\u001b[0;34m\u001b[0m\u001b[0m\n",
            "\u001b[0;32m/usr/local/lib/python3.7/dist-packages/torch/autograd/__init__.py\u001b[0m in \u001b[0;36mbackward\u001b[0;34m(tensors, grad_tensors, retain_graph, create_graph, grad_variables, inputs)\u001b[0m\n\u001b[1;32m    164\u001b[0m \u001b[0;34m\u001b[0m\u001b[0m\n\u001b[1;32m    165\u001b[0m     \u001b[0mgrad_tensors_\u001b[0m \u001b[0;34m=\u001b[0m \u001b[0m_tensor_or_tensors_to_tuple\u001b[0m\u001b[0;34m(\u001b[0m\u001b[0mgrad_tensors\u001b[0m\u001b[0;34m,\u001b[0m \u001b[0mlen\u001b[0m\u001b[0;34m(\u001b[0m\u001b[0mtensors\u001b[0m\u001b[0;34m)\u001b[0m\u001b[0;34m)\u001b[0m\u001b[0;34m\u001b[0m\u001b[0;34m\u001b[0m\u001b[0m\n\u001b[0;32m--> 166\u001b[0;31m     \u001b[0mgrad_tensors_\u001b[0m \u001b[0;34m=\u001b[0m \u001b[0m_make_grads\u001b[0m\u001b[0;34m(\u001b[0m\u001b[0mtensors\u001b[0m\u001b[0;34m,\u001b[0m \u001b[0mgrad_tensors_\u001b[0m\u001b[0;34m,\u001b[0m \u001b[0mis_grads_batched\u001b[0m\u001b[0;34m=\u001b[0m\u001b[0;32mFalse\u001b[0m\u001b[0;34m)\u001b[0m\u001b[0;34m\u001b[0m\u001b[0;34m\u001b[0m\u001b[0m\n\u001b[0m\u001b[1;32m    167\u001b[0m     \u001b[0;32mif\u001b[0m \u001b[0mretain_graph\u001b[0m \u001b[0;32mis\u001b[0m \u001b[0;32mNone\u001b[0m\u001b[0;34m:\u001b[0m\u001b[0;34m\u001b[0m\u001b[0;34m\u001b[0m\u001b[0m\n\u001b[1;32m    168\u001b[0m         \u001b[0mretain_graph\u001b[0m \u001b[0;34m=\u001b[0m \u001b[0mcreate_graph\u001b[0m\u001b[0;34m\u001b[0m\u001b[0;34m\u001b[0m\u001b[0m\n",
            "\u001b[0;32m/usr/local/lib/python3.7/dist-packages/torch/autograd/__init__.py\u001b[0m in \u001b[0;36m_make_grads\u001b[0;34m(outputs, grads, is_grads_batched)\u001b[0m\n\u001b[1;32m     65\u001b[0m             \u001b[0;32mif\u001b[0m \u001b[0mout\u001b[0m\u001b[0;34m.\u001b[0m\u001b[0mrequires_grad\u001b[0m\u001b[0;34m:\u001b[0m\u001b[0;34m\u001b[0m\u001b[0;34m\u001b[0m\u001b[0m\n\u001b[1;32m     66\u001b[0m                 \u001b[0;32mif\u001b[0m \u001b[0mout\u001b[0m\u001b[0;34m.\u001b[0m\u001b[0mnumel\u001b[0m\u001b[0;34m(\u001b[0m\u001b[0;34m)\u001b[0m \u001b[0;34m!=\u001b[0m \u001b[0;36m1\u001b[0m\u001b[0;34m:\u001b[0m\u001b[0;34m\u001b[0m\u001b[0;34m\u001b[0m\u001b[0m\n\u001b[0;32m---> 67\u001b[0;31m                     \u001b[0;32mraise\u001b[0m \u001b[0mRuntimeError\u001b[0m\u001b[0;34m(\u001b[0m\u001b[0;34m\"grad can be implicitly created only for scalar outputs\"\u001b[0m\u001b[0;34m)\u001b[0m\u001b[0;34m\u001b[0m\u001b[0;34m\u001b[0m\u001b[0m\n\u001b[0m\u001b[1;32m     68\u001b[0m                 \u001b[0mnew_grads\u001b[0m\u001b[0;34m.\u001b[0m\u001b[0mappend\u001b[0m\u001b[0;34m(\u001b[0m\u001b[0mtorch\u001b[0m\u001b[0;34m.\u001b[0m\u001b[0mones_like\u001b[0m\u001b[0;34m(\u001b[0m\u001b[0mout\u001b[0m\u001b[0;34m,\u001b[0m \u001b[0mmemory_format\u001b[0m\u001b[0;34m=\u001b[0m\u001b[0mtorch\u001b[0m\u001b[0;34m.\u001b[0m\u001b[0mpreserve_format\u001b[0m\u001b[0;34m)\u001b[0m\u001b[0;34m)\u001b[0m\u001b[0;34m\u001b[0m\u001b[0;34m\u001b[0m\u001b[0m\n\u001b[1;32m     69\u001b[0m             \u001b[0;32melse\u001b[0m\u001b[0;34m:\u001b[0m\u001b[0;34m\u001b[0m\u001b[0;34m\u001b[0m\u001b[0m\n",
            "\u001b[0;31mRuntimeError\u001b[0m: grad can be implicitly created only for scalar outputs"
          ]
        }
      ]
    },
    {
      "cell_type": "markdown",
      "source": [
        "For component-wise differentiation, you may simply feed vectors whose components are all 1."
      ],
      "metadata": {
        "id": "_8nfKXHCAy3B"
      }
    },
    {
      "cell_type": "code",
      "source": [
        "# calculating derivative of x^2\n",
        "x = torch.tensor([-1.,-2.], requires_grad=True)\n",
        "print(\"x     =\", x)\n",
        "y=x**2\n",
        "print(\"y     =\", y)\n",
        "v = torch.ones_like(x)\n",
        "print(\"v     =\", seed)\n",
        "y.backward(gradient=seed)  # gradient is the input v_i in the above equation.\n",
        "print(\"dy/dx =\", x.grad)"
      ],
      "metadata": {
        "colab": {
          "base_uri": "https://localhost:8080/"
        },
        "id": "TIJyUyjBnx3K",
        "outputId": "5d03f7ca-8f09-4983-e8a9-9937fef217bd"
      },
      "execution_count": null,
      "outputs": [
        {
          "output_type": "stream",
          "name": "stdout",
          "text": [
            "x     = tensor([-1., -2.], requires_grad=True)\n",
            "y     = tensor([1., 4.], grad_fn=<PowBackward0>)\n",
            "v     = tensor([1., 1.])\n",
            "dy/dx = tensor([-2., -4.])\n"
          ]
        }
      ]
    },
    {
      "cell_type": "markdown",
      "source": [
        "# Using GPUs for computing tensor operations"
      ],
      "metadata": {
        "id": "2XQfIQScCFU1"
      }
    },
    {
      "cell_type": "markdown",
      "source": [
        "So far, we did all the calculation on CPU. \n",
        "\n",
        "In order to  use **GPU**, we have to declare tensors and models on GPU."
      ],
      "metadata": {
        "id": "hhWXjxNnCMl2"
      }
    },
    {
      "cell_type": "code",
      "source": [
        "# scan available GPUs, \n",
        "if torch.cuda.is_available():\n",
        "    print(\"GPU is available\")\n",
        "    print(\"# of GPUs: \", torch.cuda.device_count())\n",
        "    print(\"listing available GPUs...\")\n",
        "    for i in range(torch.cuda.device_count()):\n",
        "        print(\"device: cuda:{}\".format(i))\n",
        "        print(\"   GPU name: \",torch.cuda.get_device_name(i))\n",
        "        print(\"   cuda capability: major:{}, minor:{}\".format(*torch.cuda.get_device_capability(i)))\n",
        "        \n",
        "else:\n",
        "    print(\"GPU is NOT available\")"
      ],
      "metadata": {
        "id": "xw2XNQ9dCj6o",
        "colab": {
          "base_uri": "https://localhost:8080/"
        },
        "outputId": "783cd94f-6f78-4639-8840-2f90900bbe40"
      },
      "execution_count": 31,
      "outputs": [
        {
          "output_type": "stream",
          "name": "stdout",
          "text": [
            "GPU is available\n",
            "# of GPUs:  1\n",
            "listing available GPUs...\n",
            "device: cuda:0\n",
            "   GPU name:  Tesla T4\n",
            "   cuda capability: major:7, minor:5\n"
          ]
        }
      ]
    },
    {
      "cell_type": "markdown",
      "source": [
        "We will use the first GPU ```cuda:0```. For convenience, we will save the device object to device variable."
      ],
      "metadata": {
        "id": "RfJC3ErKEMQG"
      }
    },
    {
      "cell_type": "code",
      "source": [
        "device = torch.device(\"cuda:0\" if torch.cuda.is_available() else \"cpu\")\n",
        "print(\"INFO: device will be used:\", device)"
      ],
      "metadata": {
        "colab": {
          "base_uri": "https://localhost:8080/"
        },
        "id": "ee2aQGagEKww",
        "outputId": "be746f9b-139a-4e02-a20e-a831a6d5ae65"
      },
      "execution_count": 34,
      "outputs": [
        {
          "output_type": "stream",
          "name": "stdout",
          "text": [
            "INFO: device will be used: cuda:0\n"
          ]
        }
      ]
    },
    {
      "cell_type": "markdown",
      "source": [
        "To create a tensor on GPU, use device parameters when create a tensor."
      ],
      "metadata": {
        "id": "JMtb9onrFLpf"
      }
    },
    {
      "cell_type": "code",
      "source": [
        "# declaring tensor of integers numbers\n",
        "tensor_int = torch.tensor([[1],[2],[3]], device=device)\n",
        "print(\"tensor_created\", tensor_int)\n",
        "print(\"type :\", type(tensor_int))\n",
        "print(\"shape:\", tensor_int.shape)\n",
        "print(\"dtype:\", tensor_int.dtype)\n",
        "print(\"device:\", tensor_int.device)\n",
        "print(\"---------------------------------------------\")\n",
        "# declaring tensor of floating numbers\n",
        "tensor_float = torch.tensor([[1.],[2.],[3.]], device=device)\n",
        "print(\"tensor_created\", tensor_float)\n",
        "print(\"type :\", type(tensor_float))\n",
        "print(\"shape:\", tensor_int.shape)\n",
        "print(\"dtype:\", tensor_float.dtype)\n",
        "print(\"device:\", tensor_int.device)\n",
        "print(\"---------------------------------------------\")"
      ],
      "metadata": {
        "colab": {
          "base_uri": "https://localhost:8080/"
        },
        "id": "Uu678igzEudn",
        "outputId": "c0a440dc-5774-40ce-b735-c23c033f68a9"
      },
      "execution_count": 33,
      "outputs": [
        {
          "output_type": "stream",
          "name": "stdout",
          "text": [
            "tensor_created tensor([[1],\n",
            "        [2],\n",
            "        [3]], device='cuda:0')\n",
            "type : <class 'torch.Tensor'>\n",
            "shape: torch.Size([3, 1])\n",
            "dtype: torch.int64\n",
            "device: cuda:0\n",
            "---------------------------------------------\n",
            "tensor_created tensor([[1.],\n",
            "        [2.],\n",
            "        [3.]], device='cuda:0')\n",
            "type : <class 'torch.Tensor'>\n",
            "shape: torch.Size([3, 1])\n",
            "dtype: torch.float32\n",
            "device: cuda:0\n",
            "---------------------------------------------\n"
          ]
        }
      ]
    },
    {
      "cell_type": "code",
      "source": [
        "# calculating derivative of x^2\n",
        "x = torch.tensor(-1., requires_grad=True, device=device)\n",
        "print(\"x     =\", x)\n",
        "y=x**2\n",
        "print(\"y     =\", y)\n",
        "y.backward()\n",
        "print(\"dy/dx =\", x.grad)"
      ],
      "metadata": {
        "colab": {
          "base_uri": "https://localhost:8080/"
        },
        "id": "S7B8uiMcGUL4",
        "outputId": "64c69fea-06b5-45ee-ba61-d987766554ef"
      },
      "execution_count": 35,
      "outputs": [
        {
          "output_type": "stream",
          "name": "stdout",
          "text": [
            "x     = tensor(-1., device='cuda:0', requires_grad=True)\n",
            "y     = tensor(1., device='cuda:0', grad_fn=<PowBackward0>)\n",
            "dy/dx = tensor(-2., device='cuda:0')\n"
          ]
        }
      ]
    },
    {
      "cell_type": "markdown",
      "source": [
        "You can also transfer tensors on CPU to GPU and vice versa."
      ],
      "metadata": {
        "id": "6ZQmNq8IFees"
      }
    },
    {
      "cell_type": "code",
      "source": [
        "# CPU -> GPU\n",
        "tensor_float = torch.tensor([[1.],[2.],[3.]]).to(device)\n",
        "print(\"tensor_created\", tensor_float)\n",
        "print(\"type :\", type(tensor_float))\n",
        "print(\"shape:\", tensor_float.shape)\n",
        "print(\"dtype:\", tensor_float.dtype)\n",
        "print(\"device:\", tensor_float.device)\n",
        "print(\"---------------------------------------------\")\n",
        "# GPU -> CPU\n",
        "tensor_float = torch.tensor([[1.],[2.],[3.]],device=device).cpu()\n",
        "print(\"tensor_created\", tensor_float)\n",
        "print(\"type :\", type(tensor_float))\n",
        "print(\"shape:\", tensor_float.shape)\n",
        "print(\"dtype:\", tensor_float.dtype)\n",
        "print(\"device:\", tensor_float.device)\n",
        "print(\"---------------------------------------------\")"
      ],
      "metadata": {
        "colab": {
          "base_uri": "https://localhost:8080/"
        },
        "id": "j7J6iMPxFeFq",
        "outputId": "c8bdf750-5f0c-4abb-abf2-7644985cd884"
      },
      "execution_count": 39,
      "outputs": [
        {
          "output_type": "stream",
          "name": "stdout",
          "text": [
            "tensor_created tensor([[1.],\n",
            "        [2.],\n",
            "        [3.]], device='cuda:0')\n",
            "type : <class 'torch.Tensor'>\n",
            "shape: torch.Size([3, 1])\n",
            "dtype: torch.float32\n",
            "device: cuda:0\n",
            "---------------------------------------------\n",
            "tensor_created tensor([[1.],\n",
            "        [2.],\n",
            "        [3.]])\n",
            "type : <class 'torch.Tensor'>\n",
            "shape: torch.Size([3, 1])\n",
            "dtype: torch.float32\n",
            "device: cpu\n",
            "---------------------------------------------\n"
          ]
        }
      ]
    },
    {
      "cell_type": "markdown",
      "source": [
        "Neural network model can be transferred, too."
      ],
      "metadata": {
        "id": "xUWnxbPnF2fx"
      }
    },
    {
      "cell_type": "code",
      "source": [
        "model_mlp = torch.nn.Sequential(\n",
        "    torch.nn.Linear(1, 16),\n",
        "    torch.nn.ReLU(),\n",
        "    torch.nn.Linear(16, 16),\n",
        "    torch.nn.ReLU(),\n",
        "    torch.nn.Linear(16, 16),\n",
        "    torch.nn.ReLU(),\n",
        "    torch.nn.Linear(16, 1),\n",
        ").to(device)\n",
        "\n",
        "tensor_float = torch.tensor([[1.],[2.],[3.]], device=device)\n",
        "model_mlp(tensor_float)"
      ],
      "metadata": {
        "colab": {
          "base_uri": "https://localhost:8080/"
        },
        "id": "hUMvendKGC4V",
        "outputId": "ee8eb338-953a-41ee-de92-35f026556351"
      },
      "execution_count": 40,
      "outputs": [
        {
          "output_type": "execute_result",
          "data": {
            "text/plain": [
              "tensor([[0.2691],\n",
              "        [0.2837],\n",
              "        [0.3218]], device='cuda:0', grad_fn=<AddmmBackward0>)"
            ]
          },
          "metadata": {},
          "execution_count": 40
        }
      ]
    },
    {
      "cell_type": "markdown",
      "source": [
        "Be careful that we cannot calculate algebraic operations on the tensors in different devices. "
      ],
      "metadata": {
        "id": "FalR-SVlGbZC"
      }
    },
    {
      "cell_type": "code",
      "source": [
        "tensor_float = torch.tensor([[1.],[2.],[3.]]) # this tensor is on CPU!\n",
        "model_mlp(tensor_float)"
      ],
      "metadata": {
        "colab": {
          "base_uri": "https://localhost:8080/",
          "height": 368
        },
        "id": "sSQTd6WkGbF4",
        "outputId": "0328a6b6-0328-460a-d5ac-77ddf56b2186"
      },
      "execution_count": 41,
      "outputs": [
        {
          "output_type": "error",
          "ename": "RuntimeError",
          "evalue": "ignored",
          "traceback": [
            "\u001b[0;31m---------------------------------------------------------------------------\u001b[0m",
            "\u001b[0;31mRuntimeError\u001b[0m                              Traceback (most recent call last)",
            "\u001b[0;32m<ipython-input-41-1e2da8672517>\u001b[0m in \u001b[0;36m<module>\u001b[0;34m\u001b[0m\n\u001b[1;32m      1\u001b[0m \u001b[0mtensor_float\u001b[0m \u001b[0;34m=\u001b[0m \u001b[0mtorch\u001b[0m\u001b[0;34m.\u001b[0m\u001b[0mtensor\u001b[0m\u001b[0;34m(\u001b[0m\u001b[0;34m[\u001b[0m\u001b[0;34m[\u001b[0m\u001b[0;36m1.\u001b[0m\u001b[0;34m]\u001b[0m\u001b[0;34m,\u001b[0m\u001b[0;34m[\u001b[0m\u001b[0;36m2.\u001b[0m\u001b[0;34m]\u001b[0m\u001b[0;34m,\u001b[0m\u001b[0;34m[\u001b[0m\u001b[0;36m3.\u001b[0m\u001b[0;34m]\u001b[0m\u001b[0;34m]\u001b[0m\u001b[0;34m)\u001b[0m \u001b[0;31m# this tensor is on CPU!\u001b[0m\u001b[0;34m\u001b[0m\u001b[0;34m\u001b[0m\u001b[0m\n\u001b[0;32m----> 2\u001b[0;31m \u001b[0mmodel_mlp\u001b[0m\u001b[0;34m(\u001b[0m\u001b[0mtensor_float\u001b[0m\u001b[0;34m)\u001b[0m\u001b[0;34m\u001b[0m\u001b[0;34m\u001b[0m\u001b[0m\n\u001b[0m",
            "\u001b[0;32m/usr/local/lib/python3.7/dist-packages/torch/nn/modules/module.py\u001b[0m in \u001b[0;36m_call_impl\u001b[0;34m(self, *input, **kwargs)\u001b[0m\n\u001b[1;32m   1128\u001b[0m         if not (self._backward_hooks or self._forward_hooks or self._forward_pre_hooks or _global_backward_hooks\n\u001b[1;32m   1129\u001b[0m                 or _global_forward_hooks or _global_forward_pre_hooks):\n\u001b[0;32m-> 1130\u001b[0;31m             \u001b[0;32mreturn\u001b[0m \u001b[0mforward_call\u001b[0m\u001b[0;34m(\u001b[0m\u001b[0;34m*\u001b[0m\u001b[0minput\u001b[0m\u001b[0;34m,\u001b[0m \u001b[0;34m**\u001b[0m\u001b[0mkwargs\u001b[0m\u001b[0;34m)\u001b[0m\u001b[0;34m\u001b[0m\u001b[0;34m\u001b[0m\u001b[0m\n\u001b[0m\u001b[1;32m   1131\u001b[0m         \u001b[0;31m# Do not call functions when jit is used\u001b[0m\u001b[0;34m\u001b[0m\u001b[0;34m\u001b[0m\u001b[0;34m\u001b[0m\u001b[0m\n\u001b[1;32m   1132\u001b[0m         \u001b[0mfull_backward_hooks\u001b[0m\u001b[0;34m,\u001b[0m \u001b[0mnon_full_backward_hooks\u001b[0m \u001b[0;34m=\u001b[0m \u001b[0;34m[\u001b[0m\u001b[0;34m]\u001b[0m\u001b[0;34m,\u001b[0m \u001b[0;34m[\u001b[0m\u001b[0;34m]\u001b[0m\u001b[0;34m\u001b[0m\u001b[0;34m\u001b[0m\u001b[0m\n",
            "\u001b[0;32m/usr/local/lib/python3.7/dist-packages/torch/nn/modules/container.py\u001b[0m in \u001b[0;36mforward\u001b[0;34m(self, input)\u001b[0m\n\u001b[1;32m    137\u001b[0m     \u001b[0;32mdef\u001b[0m \u001b[0mforward\u001b[0m\u001b[0;34m(\u001b[0m\u001b[0mself\u001b[0m\u001b[0;34m,\u001b[0m \u001b[0minput\u001b[0m\u001b[0;34m)\u001b[0m\u001b[0;34m:\u001b[0m\u001b[0;34m\u001b[0m\u001b[0;34m\u001b[0m\u001b[0m\n\u001b[1;32m    138\u001b[0m         \u001b[0;32mfor\u001b[0m \u001b[0mmodule\u001b[0m \u001b[0;32min\u001b[0m \u001b[0mself\u001b[0m\u001b[0;34m:\u001b[0m\u001b[0;34m\u001b[0m\u001b[0;34m\u001b[0m\u001b[0m\n\u001b[0;32m--> 139\u001b[0;31m             \u001b[0minput\u001b[0m \u001b[0;34m=\u001b[0m \u001b[0mmodule\u001b[0m\u001b[0;34m(\u001b[0m\u001b[0minput\u001b[0m\u001b[0;34m)\u001b[0m\u001b[0;34m\u001b[0m\u001b[0;34m\u001b[0m\u001b[0m\n\u001b[0m\u001b[1;32m    140\u001b[0m         \u001b[0;32mreturn\u001b[0m \u001b[0minput\u001b[0m\u001b[0;34m\u001b[0m\u001b[0;34m\u001b[0m\u001b[0m\n\u001b[1;32m    141\u001b[0m \u001b[0;34m\u001b[0m\u001b[0m\n",
            "\u001b[0;32m/usr/local/lib/python3.7/dist-packages/torch/nn/modules/module.py\u001b[0m in \u001b[0;36m_call_impl\u001b[0;34m(self, *input, **kwargs)\u001b[0m\n\u001b[1;32m   1128\u001b[0m         if not (self._backward_hooks or self._forward_hooks or self._forward_pre_hooks or _global_backward_hooks\n\u001b[1;32m   1129\u001b[0m                 or _global_forward_hooks or _global_forward_pre_hooks):\n\u001b[0;32m-> 1130\u001b[0;31m             \u001b[0;32mreturn\u001b[0m \u001b[0mforward_call\u001b[0m\u001b[0;34m(\u001b[0m\u001b[0;34m*\u001b[0m\u001b[0minput\u001b[0m\u001b[0;34m,\u001b[0m \u001b[0;34m**\u001b[0m\u001b[0mkwargs\u001b[0m\u001b[0;34m)\u001b[0m\u001b[0;34m\u001b[0m\u001b[0;34m\u001b[0m\u001b[0m\n\u001b[0m\u001b[1;32m   1131\u001b[0m         \u001b[0;31m# Do not call functions when jit is used\u001b[0m\u001b[0;34m\u001b[0m\u001b[0;34m\u001b[0m\u001b[0;34m\u001b[0m\u001b[0m\n\u001b[1;32m   1132\u001b[0m         \u001b[0mfull_backward_hooks\u001b[0m\u001b[0;34m,\u001b[0m \u001b[0mnon_full_backward_hooks\u001b[0m \u001b[0;34m=\u001b[0m \u001b[0;34m[\u001b[0m\u001b[0;34m]\u001b[0m\u001b[0;34m,\u001b[0m \u001b[0;34m[\u001b[0m\u001b[0;34m]\u001b[0m\u001b[0;34m\u001b[0m\u001b[0;34m\u001b[0m\u001b[0m\n",
            "\u001b[0;32m/usr/local/lib/python3.7/dist-packages/torch/nn/modules/linear.py\u001b[0m in \u001b[0;36mforward\u001b[0;34m(self, input)\u001b[0m\n\u001b[1;32m    112\u001b[0m \u001b[0;34m\u001b[0m\u001b[0m\n\u001b[1;32m    113\u001b[0m     \u001b[0;32mdef\u001b[0m \u001b[0mforward\u001b[0m\u001b[0;34m(\u001b[0m\u001b[0mself\u001b[0m\u001b[0;34m,\u001b[0m \u001b[0minput\u001b[0m\u001b[0;34m:\u001b[0m \u001b[0mTensor\u001b[0m\u001b[0;34m)\u001b[0m \u001b[0;34m->\u001b[0m \u001b[0mTensor\u001b[0m\u001b[0;34m:\u001b[0m\u001b[0;34m\u001b[0m\u001b[0;34m\u001b[0m\u001b[0m\n\u001b[0;32m--> 114\u001b[0;31m         \u001b[0;32mreturn\u001b[0m \u001b[0mF\u001b[0m\u001b[0;34m.\u001b[0m\u001b[0mlinear\u001b[0m\u001b[0;34m(\u001b[0m\u001b[0minput\u001b[0m\u001b[0;34m,\u001b[0m \u001b[0mself\u001b[0m\u001b[0;34m.\u001b[0m\u001b[0mweight\u001b[0m\u001b[0;34m,\u001b[0m \u001b[0mself\u001b[0m\u001b[0;34m.\u001b[0m\u001b[0mbias\u001b[0m\u001b[0;34m)\u001b[0m\u001b[0;34m\u001b[0m\u001b[0;34m\u001b[0m\u001b[0m\n\u001b[0m\u001b[1;32m    115\u001b[0m \u001b[0;34m\u001b[0m\u001b[0m\n\u001b[1;32m    116\u001b[0m     \u001b[0;32mdef\u001b[0m \u001b[0mextra_repr\u001b[0m\u001b[0;34m(\u001b[0m\u001b[0mself\u001b[0m\u001b[0;34m)\u001b[0m \u001b[0;34m->\u001b[0m \u001b[0mstr\u001b[0m\u001b[0;34m:\u001b[0m\u001b[0;34m\u001b[0m\u001b[0;34m\u001b[0m\u001b[0m\n",
            "\u001b[0;31mRuntimeError\u001b[0m: Expected all tensors to be on the same device, but found at least two devices, cuda:0 and cpu! (when checking argument for argument mat1 in method wrapper_addmm)"
          ]
        }
      ]
    },
    {
      "cell_type": "markdown",
      "source": [
        "If you want to bring tensors on GPU on cpu and convert it to numpy array, here is a code snippet:"
      ],
      "metadata": {
        "id": "WKAH8ZFXG0en"
      }
    },
    {
      "cell_type": "code",
      "source": [
        "tensor_float = torch.tensor([[1.],[2.],[3.]], device=device)\n",
        "arr_float = tensor_float.cpu().numpy() # <- this one\n",
        "print(\"ndarray_created\", arr_float)\n",
        "print(\"type :\", type(arr_float))\n",
        "print(\"shape:\", arr_float.shape)\n",
        "print(\"dtype:\", arr_float.dtype)\n",
        "print(\"---------------------------------------------\")"
      ],
      "metadata": {
        "colab": {
          "base_uri": "https://localhost:8080/"
        },
        "id": "qgWl3iK4G72G",
        "outputId": "65ee4ef9-6787-4234-eecf-75aae813e475"
      },
      "execution_count": 42,
      "outputs": [
        {
          "output_type": "stream",
          "name": "stdout",
          "text": [
            "ndarray_created [[1.]\n",
            " [2.]\n",
            " [3.]]\n",
            "type : <class 'numpy.ndarray'>\n",
            "shape: (3, 1)\n",
            "dtype: float32\n",
            "---------------------------------------------\n"
          ]
        }
      ]
    },
    {
      "cell_type": "markdown",
      "source": [
        "But if the tensor requires grad, we have to detach it from the graph first before the conversion."
      ],
      "metadata": {
        "id": "EP6kig-pHMcG"
      }
    },
    {
      "cell_type": "code",
      "source": [
        "tensor_float = torch.tensor([[1.],[2.],[3.]], device=device, requires_grad=True)\n",
        "arr_float = tensor_float.detach().cpu().numpy() # <- try it without detach()\n",
        "print(\"ndarray_created\", arr_float)\n",
        "print(\"type :\", type(arr_float))\n",
        "print(\"shape:\", arr_float.shape)\n",
        "print(\"dtype:\", arr_float.dtype)\n",
        "print(\"---------------------------------------------\")"
      ],
      "metadata": {
        "colab": {
          "base_uri": "https://localhost:8080/"
        },
        "id": "J0sfy9u3HXw8",
        "outputId": "4ed81c6d-965b-4c01-dac0-0d01b45b72d7"
      },
      "execution_count": 43,
      "outputs": [
        {
          "output_type": "stream",
          "name": "stdout",
          "text": [
            "ndarray_created [[1.]\n",
            " [2.]\n",
            " [3.]]\n",
            "type : <class 'numpy.ndarray'>\n",
            "shape: (3, 1)\n",
            "dtype: float32\n",
            "---------------------------------------------\n"
          ]
        }
      ]
    }
  ]
}